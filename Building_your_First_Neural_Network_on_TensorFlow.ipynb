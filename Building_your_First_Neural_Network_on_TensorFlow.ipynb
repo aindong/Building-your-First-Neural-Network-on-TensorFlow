{
  "nbformat": 4,
  "nbformat_minor": 0,
  "metadata": {
    "colab": {
      "name": "Building your First Neural Network on TensorFlow",
      "provenance": [],
      "collapsed_sections": [],
      "include_colab_link": true
    },
    "kernelspec": {
      "name": "python3",
      "display_name": "Python 3"
    },
    "accelerator": "GPU"
  },
  "cells": [
    {
      "cell_type": "markdown",
      "metadata": {
        "id": "view-in-github",
        "colab_type": "text"
      },
      "source": [
        "<a href=\"https://colab.research.google.com/github/aindong/Building-your-First-Neural-Network-on-TensorFlow/blob/main/Building_your_First_Neural_Network_on_TensorFlow.ipynb\" target=\"_parent\"><img src=\"https://colab.research.google.com/assets/colab-badge.svg\" alt=\"Open In Colab\"/></a>"
      ]
    },
    {
      "cell_type": "markdown",
      "metadata": {
        "id": "R6jO_1gISKxk"
      },
      "source": [
        "# Building your First Neural Network on TensorFlow\n",
        "\n",
        "> **Rodolfo Ferro** <br>\n",
        "> Google Dev Expert in Machine Learning, 2020.\n",
        ">\n",
        "> _Social:_\n",
        "> - GitHub - [RodolfoFerro](https://github.com/RodolfoFerro)\n",
        "> - Twitter - [@FerroRodolfo](https://twitter.com/FerroRodolfo)\n",
        "\n",
        "## Contents\n",
        "\n",
        "1. A quick intro to Google Colab\n",
        "2. Importing TensorFlow\n",
        "3. Importing the data\n",
        "4. Create your first model\n",
        "5. Train and evaluate your model\n",
        "6. Let's make predictions!\n"
      ]
    },
    {
      "cell_type": "markdown",
      "metadata": {
        "id": "PmzzrnpMplk6"
      },
      "source": [
        "## A quick intro to Google Colab\n",
        "\n",
        "Let's explore this environment."
      ]
    },
    {
      "cell_type": "markdown",
      "metadata": {
        "id": "1Z7JrTygMDSx"
      },
      "source": [
        "## Importing TensorFlow\n",
        "\n",
        "Let's start importing TensorFlow...\n",
        "\n",
        "And let's talk a bit about it."
      ]
    },
    {
      "cell_type": "code",
      "metadata": {
        "id": "LPB4nBh8MFDm"
      },
      "source": [
        "import tensorflow as tf\n",
        "print(tf.__version__)"
      ],
      "execution_count": null,
      "outputs": []
    },
    {
      "cell_type": "markdown",
      "metadata": {
        "id": "PKKh-ECxp3Hf"
      },
      "source": [
        "## Importing the data\n",
        "\n",
        "The Fashion MNIST dataset is available directly from the `tf.keras` dataset API. You can load the dataset as follows."
      ]
    },
    {
      "cell_type": "code",
      "metadata": {
        "id": "Wgked3UaMJW4"
      },
      "source": [
        "fashion_mnist = tf.keras.datasets.fashion_mnist"
      ],
      "execution_count": null,
      "outputs": []
    },
    {
      "cell_type": "markdown",
      "metadata": {
        "id": "JhLHaC0Cqn_U"
      },
      "source": [
        "Calling `load_data` will create two sets, one with the training values and one with the test values."
      ]
    },
    {
      "cell_type": "code",
      "metadata": {
        "id": "1XdP6qF1MLR6"
      },
      "source": [
        "(training_images, training_labels), (test_images, test_labels) = fashion_mnist.load_data()"
      ],
      "execution_count": null,
      "outputs": []
    },
    {
      "cell_type": "markdown",
      "metadata": {
        "id": "6c0eSrlvMs6H"
      },
      "source": [
        "### How does this data look like?\n",
        "\n",
        "Let's plot some of images to understand the dataset structure."
      ]
    },
    {
      "cell_type": "code",
      "metadata": {
        "id": "3CdTltfNM0qF"
      },
      "source": [
        "import numpy as np\n",
        "import matplotlib.pyplot as plt\n",
        "np.set_printoptions(linewidth=200)\n",
        "\n",
        "\n",
        "# Set index of image to be seen\n",
        "img_index = 0\n",
        "\n",
        "# Plot image\n",
        "plt.imshow(training_images[img_index], cmap='gray')\n",
        "plt.axis(False)\n",
        "\n",
        "print(\"Label:\", training_labels[img_index])\n",
        "print(\"Matrix:\\n\", training_images[img_index])"
      ],
      "execution_count": null,
      "outputs": []
    },
    {
      "cell_type": "markdown",
      "metadata": {
        "id": "CxfNdPU3NQge"
      },
      "source": [
        "You will notice that all the values are between 0 and 255. If we are training a neural network, for various reasons it is easier if we transform the values to treat all with values between 0 and 1. This process is called **normalization**."
      ]
    },
    {
      "cell_type": "code",
      "metadata": {
        "id": "vWoPQWCGNdnB"
      },
      "source": [
        "training_images  = training_images / 255.0\n",
        "test_images = test_images / 255.0"
      ],
      "execution_count": null,
      "outputs": []
    },
    {
      "cell_type": "markdown",
      "metadata": {
        "id": "bTaT1RjyNjqV"
      },
      "source": [
        "## Create your first model\n",
        "\n",
        "There are several kinds of layers inside the Keras API, but in this case you are going to build a multi-layer perceptron (a full-connected network) which means that the set of neurons from a previous layer will be all connected the the set of neurons of the next layer."
      ]
    },
    {
      "cell_type": "code",
      "metadata": {
        "id": "g-myY9JWNvtY"
      },
      "source": [
        "model = tf.keras.models.Sequential([\n",
        "            tf.keras.layers.Flatten(), \n",
        "            tf.keras.layers.Dense(128, activation='relu'), \n",
        "            tf.keras.layers.Dense(10, activation='softmax')\n",
        "        ])"
      ],
      "execution_count": null,
      "outputs": []
    },
    {
      "cell_type": "markdown",
      "metadata": {
        "id": "dwkxtrHdNvHg"
      },
      "source": [
        "You can specify the way you'll measure the error and how to move toward the position that minimizes this error."
      ]
    },
    {
      "cell_type": "code",
      "metadata": {
        "id": "F9LHH0f6N5Hi"
      },
      "source": [
        "model.compile(\n",
        "    optimizer=tf.optimizers.Adam(),\n",
        "    loss='sparse_categorical_crossentropy',\n",
        "    metrics=['accuracy']\n",
        ")"
      ],
      "execution_count": null,
      "outputs": []
    },
    {
      "cell_type": "markdown",
      "metadata": {
        "id": "cH9mfZMTN8_H"
      },
      "source": [
        "## Train and evaluate your model\n",
        "\n",
        "To train the model, you can simply call the `fit` method and specify the data that will be used to train the neural network, as well as the number of training iterations."
      ]
    },
    {
      "cell_type": "code",
      "metadata": {
        "id": "ybq9AzJiN8ZV"
      },
      "source": [
        "model.fit(training_images, training_labels, epochs=5)"
      ],
      "execution_count": null,
      "outputs": []
    },
    {
      "cell_type": "markdown",
      "metadata": {
        "id": "Zu6PAD6ssehT"
      },
      "source": [
        "After the model is trained, you can evaluate the accuracy of the model with the data tha it has never seen before."
      ]
    },
    {
      "cell_type": "code",
      "metadata": {
        "id": "rHCV5BrAN-pq"
      },
      "source": [
        "model.evaluate(test_images, test_labels)"
      ],
      "execution_count": null,
      "outputs": []
    },
    {
      "cell_type": "markdown",
      "metadata": {
        "id": "w-hQX4NNOd_D"
      },
      "source": [
        "## Let's make predictions!\n"
      ]
    },
    {
      "cell_type": "code",
      "metadata": {
        "id": "GaDFuXyROfZY"
      },
      "source": [
        "test_index = 0\n",
        "\n",
        "plt.imshow(test_images[test_index], cmap='gray')\n",
        "plt.axis(False)\n",
        "\n",
        "print(\"Label:\", test_labels[test_index])\n",
        "prediction = model.predict(np.expand_dims(test_images[test_index], axis=0))\n",
        "print(\"Prediction:\", np.argmax(prediction))"
      ],
      "execution_count": null,
      "outputs": []
    },
    {
      "cell_type": "markdown",
      "metadata": {
        "id": "4k1W6nIwnAfj"
      },
      "source": [
        "### Explore the following situations:\n",
        "\n",
        "- Modify the number of layers neurons per layer\n",
        "- Modify the number of training epochs\n",
        "- Explore results with other datasets\n"
      ]
    },
    {
      "cell_type": "markdown",
      "metadata": {
        "id": "EiSDF7UmnTe8"
      },
      "source": [
        "### Some useful resources\n",
        "\n",
        "- The TF [Sequential](https://www.tensorflow.org/api_docs/python/tf/keras/Sequential) model\n",
        "- [`tf.keras.layers`](https://www.tensorflow.org/api_docs/python/tf/keras/layers)\n",
        "- [`tf.keras.activations`](https://www.tensorflow.org/api_docs/python/tf/keras/activations)\n",
        "- [`tf.keras.losses`](https://www.tensorflow.org/api_docs/python/tf/keras/losses)"
      ]
    }
  ]
}